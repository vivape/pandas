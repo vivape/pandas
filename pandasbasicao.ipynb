{
 "cells": [
  {
   "cell_type": "markdown",
   "metadata": {},
   "source": [
    "# Códigos para uso da biblioteca Pandas\n",
    "\n",
    "Lista de comandos úteis e explicados para manuseio de data frames"
   ]
  },
  {
   "cell_type": "code",
   "execution_count": 1,
   "metadata": {},
   "outputs": [],
   "source": [
    "#para importar\n",
    "import pandas as pd"
   ]
  },
  {
   "cell_type": "code",
   "execution_count": null,
   "metadata": {},
   "outputs": [],
   "source": [
    "#para abrir um arquivo csv\n",
    "df = pd.read_csv('nome_do_arquivo.csv', sep=',') #o separador não é obrigatório\n",
    "\n",
    "#para abrir um arquivo excel\n",
    "df = pd.read_excel('nome_do_arquivo.xlsx')\n",
    "\n",
    "#para acessar uma aba específica do arquivo xlsx\n",
    "df = pd.read_excel('nome_do_arquivo.xlsx', sheetname='nomedaaba')\n",
    "\n",
    "#para salvar um novo csv\n",
    "nomedodataframe.to_csv('nome_do_arquivo.csv', encoding='utf-8') #não esquecer do encoding\n",
    "\n",
    "#para saber em qual pasta o jupyter está rodando\n",
    "pwd\n",
    "\n",
    "#para ver arquivos que podem ser acessados dentro dessa pasta\n",
    "ls"
   ]
  },
  {
   "cell_type": "code",
   "execution_count": null,
   "metadata": {},
   "outputs": [],
   "source": [
    "#para 'chamar' uma linha aleatória do dataframe\n",
    "df.sample()\n",
    "\n",
    "#para ver as primeiras linhas do dataframe\n",
    "df.head() #é possível colocar um número de linhas dentro dos parênteses\n",
    "\n",
    "#para ver as últimas linhas do dataframe\n",
    "df.tail #também é possível definir uma quantidade de linhas"
   ]
  },
  {
   "cell_type": "code",
   "execution_count": null,
   "metadata": {},
   "outputs": [],
   "source": [
    "#conta a quantidade de linhas e colunas (linhas, colunas). É sem parênteses mesmo.\n",
    "df.shape \n",
    "\n",
    "#para ver os tipos de dados disponíveis no dataframe (tabela)\n",
    "df.dtypes"
   ]
  },
  {
   "cell_type": "code",
   "execution_count": null,
   "metadata": {},
   "outputs": [],
   "source": [
    "#transforma dados de uma coluna em float\n",
    "df['nome_da_coluna'] = pd.to_numeric(df['nome_da_coluna']) "
   ]
  },
  {
   "cell_type": "code",
   "execution_count": null,
   "metadata": {},
   "outputs": [],
   "source": [
    "#Remover uma coluna. O 1 signigica coluna, assim como 0 significa linha\n",
    "df = df.drop('nome_da_coluna', 1)"
   ]
  },
  {
   "cell_type": "markdown",
   "metadata": {},
   "source": [
    "**Para criar um novo dataframe apenas com as colunas desejadas, ou seja, sem precisar remover as indesejadas, basta criar um novo dataframe e selecionar as colunas necessárias. Confira o exemplo a seguir:**\n",
    "\n",
    "Suponhamos que eu tenha um dataframe *df*. Para preparar outro com as colunas que eu quero, vou definir outro chamado *df_final* e o código será assim:"
   ]
  },
  {
   "cell_type": "code",
   "execution_count": null,
   "metadata": {},
   "outputs": [],
   "source": []
  },
  {
   "cell_type": "code",
   "execution_count": null,
   "metadata": {},
   "outputs": [],
   "source": [
    "#renomear uma coluna\n",
    "df = df.rename(columns={'nome_atual_da_coluna': 'novo_nome_da_coluna'})"
   ]
  },
  {
   "cell_type": "code",
   "execution_count": null,
   "metadata": {},
   "outputs": [],
   "source": [
    "#pegar uma lista de nomes de colunas\n",
    "df.columns"
   ]
  },
  {
   "cell_type": "code",
   "execution_count": null,
   "metadata": {},
   "outputs": [],
   "source": [
    "#Pedir nomes unicos na coluna DonorNome\n",
    "df['nome_da_coluna'].unique()"
   ]
  },
  {
   "cell_type": "code",
   "execution_count": null,
   "metadata": {},
   "outputs": [],
   "source": [
    "#tira os espacos do início e do final da célula\n",
    "df['nome_da_coluna'] = df['nome_da_coluna'].map(str.strip)"
   ]
  },
  {
   "cell_type": "code",
   "execution_count": null,
   "metadata": {},
   "outputs": [],
   "source": [
    "#define formato de data para uma coluna\n",
    "df['nome_da_coluna'] = pd.to_datetime(df['nome_da_coluna'], format=\"%d/%m/%y\")"
   ]
  },
  {
   "cell_type": "code",
   "execution_count": null,
   "metadata": {},
   "outputs": [],
   "source": [
    "#cria coluna nova com parte da informação da coluna de data\n",
    "df['nova_coluna'] = pd.DatetimeIndex(df['nova_coluna']).year\n",
    "\n",
    "#o código acima cria uma coluna apenas com o ano da data. Para criar com apenas o mês:\n",
    "df['nova_coluna'] = pd.DatetimeIndex(df['nova_coluna']).month"
   ]
  },
  {
   "cell_type": "markdown",
   "metadata": {},
   "source": [
    " **Para criar um novo dataframe apenas com as colunas desejadas, ou seja, sem precisar remover as indesejadas, basta criar um novo dataframe e selecionar as colunas necessárias. Confira o exemplo a seguir:**\n",
    "\n",
    "Suponhamos que eu tenha um dataframe *df*. Para preparar outro com as colunas que eu quero, vou definir outro chamado *df_final* e o código será assim:"
   ]
  },
  {
   "cell_type": "code",
   "execution_count": null,
   "metadata": {},
   "outputs": [],
   "source": [
    "df_final = df[['coluna_que_quero1','coluna_que_quero2', 'coluna_que_quero3']]"
   ]
  },
  {
   "cell_type": "code",
   "execution_count": null,
   "metadata": {},
   "outputs": [],
   "source": []
  },
  {
   "cell_type": "markdown",
   "metadata": {},
   "source": [
    "**A seguir, códigos úteis para análises básicas:**"
   ]
  },
  {
   "cell_type": "code",
   "execution_count": null,
   "metadata": {},
   "outputs": [],
   "source": [
    "#aplica um filtro de valor em uma coluna\n",
    "df[df['nome_da_coluna'] < 1000\n",
    "#nesse caso, serão mostradas apenas as linhas com valor menor que 1000 na coluna escolhida."
   ]
  },
  {
   "cell_type": "code",
   "execution_count": null,
   "metadata": {},
   "outputs": [],
   "source": [
    "#organiza o dataframe em ordem crescente, a partir de determinada coluna\n",
    "df.sort_values(by='nome_da_coluna')\n",
    "\n",
    "#para organizar o dataframe em ordem decrescente, a partir de determinada coluna\n",
    "df.sort_values(by='nome_da_coluna', ascending=False)"
   ]
  },
  {
   "cell_type": "code",
   "execution_count": null,
   "metadata": {},
   "outputs": [],
   "source": [
    "#mostrar a soma de valores de uma coluna\n",
    "df['nome_da_coluna'].sum()\n",
    "\n",
    "#não custa lembrar que é possível ter uma \"amostra\" sobre os dados guardados no dataframe com \n",
    "df.describe()\n"
   ]
  },
  {
   "cell_type": "code",
   "execution_count": null,
   "metadata": {},
   "outputs": [],
   "source": [
    "#contar quantas vezes um nome aparece em uma coluna\n",
    "df['nome_da_coluna'].value_counts()"
   ]
  },
  {
   "cell_type": "code",
   "execution_count": null,
   "metadata": {},
   "outputs": [],
   "source": [
    "#agrupar por nome de uma coluna e somar valores de outra\n",
    "\n",
    "grupo = df.groupby('nome_da_coluna_comnomesporexemplo')['nome_coluna_com_valores'].sum()\n",
    "\n",
    "#é uma espécie de tabela dinâmica, pois mostra, por exemplo, lista de doadores e valores totais doados por cada um."
   ]
  },
  {
   "cell_type": "markdown",
   "metadata": {},
   "source": [
    " **Algumas linhas para análises um pouco mais complexas:**"
   ]
  },
  {
   "cell_type": "code",
   "execution_count": null,
   "metadata": {},
   "outputs": [],
   "source": [
    "#para fazer um filtro em uma coluna pelo termo de alguma linha\n",
    "#serve, por exemplo, para filtrar um Estado em coluna com vários\n",
    "\n",
    "df.loc[df['nome_da_coluna'] == 'Espírito Santo']\n",
    "\n",
    "#é possível fazer esse filtro com número ou mesmo com uma conta.\n",
    "#a seguir, mostrando apenas as linhas com mais de 50%.\n",
    "\n",
    "df.loc[df['nome_da_coluna_com_número']*100 >= 50]"
   ]
  },
  {
   "cell_type": "code",
   "execution_count": null,
   "metadata": {},
   "outputs": [],
   "source": []
  },
  {
   "cell_type": "code",
   "execution_count": null,
   "metadata": {},
   "outputs": [],
   "source": []
  }
 ],
 "metadata": {
  "kernelspec": {
   "display_name": "Python 3",
   "language": "python",
   "name": "python3"
  },
  "language_info": {
   "codemirror_mode": {
    "name": "ipython",
    "version": 3
   },
   "file_extension": ".py",
   "mimetype": "text/x-python",
   "name": "python",
   "nbconvert_exporter": "python",
   "pygments_lexer": "ipython3",
   "version": "3.7.1"
  }
 },
 "nbformat": 4,
 "nbformat_minor": 2
}
